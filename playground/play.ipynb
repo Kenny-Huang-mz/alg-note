{
 "cells": [
  {
   "cell_type": "code",
   "execution_count": 1,
   "metadata": {},
   "outputs": [],
   "source": [
    "import re\n",
    "import random\n",
    "import sys\n",
    "from math import ceil,floor,fmod,gcd,sqrt,inf\n",
    "from bisect import bisect_left\n",
    "from collections import defaultdict,Counter,deque,OrderedDict\n",
    "from functools import cache, reduce, cmp_to_key\n",
    "from itertools import accumulate, combinations, permutations\n",
    "from heapq import nsmallest, nlargest, heappushpop, heapify, heappop, heappush\n",
    "from copy import deepcopy\n",
    "from typing import *\n",
    "from string import ascii_lowercase, ascii_uppercase\n",
    "\n",
    "if \"PyPy\" in sys.version:\n",
    "    import pypyjit; pypyjit.set_param('max_unroll_recursion=-1')\n",
    "\n",
    "limits = [100000, 10000, 5000, 2000]\n",
    "for limit in limits:\n",
    "    try:\n",
    "        sys.setrecursionlimit(limit)\n",
    "        break\n",
    "    except:\n",
    "        continue \n",
    "\n",
    "def fstream(func):\n",
    "    def wrapper():\n",
    "        input_file = open('data.in', 'r')\n",
    "        sys.stdin = input_file\n",
    "        output_file = open('data.out', 'w')\n",
    "        sys.stdout = output_file\n",
    "        func()\n",
    "        input_file.close()\n",
    "        sys.stdin = sys.__stdin__\n",
    "        output_file.close()\n",
    "        sys.stdout = sys.__stdout__\n",
    "    return wrapper\n",
    "\n",
    "input = lambda: sys.stdin.readline().rstrip(\"\\r\\n\")\n",
    "\n",
    "def I():\n",
    "    return input()\n",
    " \n",
    "def II():\n",
    "    return int(input())\n",
    " \n",
    "def MII():\n",
    "    return map(int, input().split())\n",
    " \n",
    "def LI():\n",
    "    return list(input().split())\n",
    " \n",
    "def LII():\n",
    "    return list(map(int, input().split()))\n",
    "\n",
    "def for_t(func):\n",
    "    def wrapper():\n",
    "        T=II()\n",
    "        for _ in range(T):\n",
    "            func()\n",
    "    return wrapper"
   ]
  },
  {
   "cell_type": "markdown",
   "metadata": {},
   "source": [
    "## 测试去重的速度"
   ]
  },
  {
   "cell_type": "code",
   "execution_count": 36,
   "metadata": {},
   "outputs": [
    {
     "name": "stdout",
     "output_type": "stream",
     "text": [
      "set 方法耗时: 2.552644799929112\n",
      "列表推导式耗时: 1.5086278999224305\n"
     ]
    }
   ],
   "source": [
    "import timeit\n",
    "\n",
    "# 定义测试函数\n",
    "def test_set(a):\n",
    "    x = list(set(a))\n",
    "    x.sort()\n",
    "\n",
    "def test_list_comprehension(a):\n",
    "    a.sort()\n",
    "    x = [a[i] for i in range(len(a)) if a[i] != a[i - 1]]\n",
    "\n",
    "# 随机化生成数组\n",
    "random.seed(41)  # 设置随机种子以确保结果可重现\n",
    "a = [random.randint(1, 10000000) for _ in range(10000)]\n",
    "\n",
    "# 测试 set 方法的耗时\n",
    "set_time = timeit.timeit(lambda: test_set(a), number=1000)\n",
    "\n",
    "# 测试列表推导式的耗时\n",
    "list_comp_time = timeit.timeit(lambda: test_list_comprehension(a), number=1000)\n",
    "\n",
    "# 输出结果\n",
    "print(\"set 方法耗时:\", set_time)\n",
    "print(\"列表推导式耗时:\", list_comp_time)"
   ]
  }
 ],
 "metadata": {
  "kernelspec": {
   "display_name": "Python 3",
   "language": "python",
   "name": "python3"
  },
  "language_info": {
   "codemirror_mode": {
    "name": "ipython",
    "version": 3
   },
   "file_extension": ".py",
   "mimetype": "text/x-python",
   "name": "python",
   "nbconvert_exporter": "python",
   "pygments_lexer": "ipython3",
   "version": "3.10.7"
  }
 },
 "nbformat": 4,
 "nbformat_minor": 2
}
